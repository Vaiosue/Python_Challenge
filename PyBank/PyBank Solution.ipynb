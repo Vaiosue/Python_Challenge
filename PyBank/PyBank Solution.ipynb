{
 "cells": [
  {
   "cell_type": "code",
   "execution_count": null,
   "metadata": {},
   "outputs": [],
   "source": [
    "#import dependencies/modules\n",
    "\n",
    "import os\n",
    "import csv\n"
   ]
  },
  {
   "cell_type": "code",
   "execution_count": null,
   "metadata": {},
   "outputs": [],
   "source": [
    "#Set filepath to csv file that will be analyzed\n",
    "infile = os.path.join('budget_data.csv')\n",
    "#create pointer that summons csv.reader that will allow us to loop through csv\n",
    "budgetcsv = csv.reader(open(infile))\n",
    "#Create list\n",
    "header = next(budgetcsv)\n",
    "#create a dictionary comprehension using key value pairs and turn v into an integer in order to do mathematical operations\n",
    "mydata = {k:int(v) for k,v in budgetcsv}\n",
    "\n",
    "mydata\n",
    "                      "
   ]
  },
  {
   "cell_type": "code",
   "execution_count": null,
   "metadata": {},
   "outputs": [],
   "source": [
    "#use sum function to total the values of the second column to find total revenue\n",
    "total_revenues = sum(mydata.values())"
   ]
  },
  {
   "cell_type": "code",
   "execution_count": null,
   "metadata": {},
   "outputs": [],
   "source": [
    "#determine number of months in dataset\n",
    "len(mydata)"
   ]
  },
  {
   "cell_type": "code",
   "execution_count": null,
   "metadata": {},
   "outputs": [],
   "source": [
    "months = list(mydata.keys())"
   ]
  },
  {
   "cell_type": "code",
   "execution_count": null,
   "metadata": {},
   "outputs": [],
   "source": [
    "currentkey, prevkey = months[1:], months[:-1]"
   ]
  },
  {
   "cell_type": "code",
   "execution_count": null,
   "metadata": {},
   "outputs": [],
   "source": [
    "net_change = {c: mydata[c] - mydata[p] for c,p in zip(currentkey, prevkey)}\n"
   ]
  },
  {
   "cell_type": "code",
   "execution_count": null,
   "metadata": {},
   "outputs": [],
   "source": [
    "#Average change\n",
    "average_change = round(sum(net_change.values()) / len(net_change),2)"
   ]
  },
  {
   "cell_type": "code",
   "execution_count": null,
   "metadata": {},
   "outputs": [],
   "source": [
    "#Sort the values in the dictionary\n",
    "\n",
    "sorted(net_change, key=net_change.get)[0]\n",
    "sorted(net_change, key=net_change.get)[1]\n"
   ]
  },
  {
   "cell_type": "code",
   "execution_count": null,
   "metadata": {},
   "outputs": [],
   "source": [
    "#max value - greates monthly change \n",
    "greatest_increase = max(net_change, key=net_change.get)"
   ]
  },
  {
   "cell_type": "code",
   "execution_count": null,
   "metadata": {},
   "outputs": [],
   "source": [
    "#min value - smallest monthly change\n",
    "greatest_decrease = min(net_change, key=net_change.get)"
   ]
  },
  {
   "cell_type": "code",
   "execution_count": 15,
   "metadata": {},
   "outputs": [
    {
     "name": "stdout",
     "output_type": "stream",
     "text": [
      "Financial Analysis\n",
      "Total Months: 86\n",
      "Total: $38382578\n",
      "Average Change: $-2315.12\n",
      "Greatest Increase In Profits: Feb-2012 $1926159\n",
      "Greatest Decrease In Profits: Sep-2013 $2196167\n"
     ]
    }
   ],
   "source": [
    "print(f'Financial Analysis')\n",
    "print(f'Total Months: {len(mydata)}')\n",
    "print(f'Total: ${total_revenues}')\n",
    "print(f'Average Change: ${average_change}')\n",
    "print(f'Greatest Increase In Profits: {greatest_increase} $1926159')\n",
    "print(f'Greatest Decrease In Profits: {greatest_decrease} $2196167')"
   ]
  },
  {
   "cell_type": "code",
   "execution_count": 19,
   "metadata": {},
   "outputs": [],
   "source": [
    "# Specify File To Write To\n",
    "output_file = os.path.join('budget_data_revised.text')\n",
    "\n",
    "# Open File Using \"Write\" Mode. Specify The Variable To Hold The Contents\n",
    "with open(output_file, 'w',) as txtfile:\n",
    "\n",
    "# Write New Data\n",
    "    txtfile.write(f\"Financial Analysis\\n\")\n",
    "    txtfile.write(f\"---------------------------\\n\")\n",
    "    txtfile.write(f\"Total Months: {len(mydata)}\\n\")\n",
    "    txtfile.write(f\"Total: ${total_revenues}\\n\")\n",
    "    txtfile.write(f\"Average Change: ${average_change}\\n\")\n",
    "    txtfile.write(f\"Greatest Increase in Profits:, {greatest_increase}, ($1926159)\\n\")\n",
    "    txtfile.write(f\"Greatest Decrease in Profits:, {greatest_decrease}, ($2196167)\\n\")"
   ]
  },
  {
   "cell_type": "code",
   "execution_count": null,
   "metadata": {},
   "outputs": [],
   "source": []
  }
 ],
 "metadata": {
  "kernelspec": {
   "display_name": "Python 3",
   "language": "python",
   "name": "python3"
  },
  "language_info": {
   "codemirror_mode": {
    "name": "ipython",
    "version": 3
   },
   "file_extension": ".py",
   "mimetype": "text/x-python",
   "name": "python",
   "nbconvert_exporter": "python",
   "pygments_lexer": "ipython3",
   "version": "3.7.1"
  }
 },
 "nbformat": 4,
 "nbformat_minor": 2
}
